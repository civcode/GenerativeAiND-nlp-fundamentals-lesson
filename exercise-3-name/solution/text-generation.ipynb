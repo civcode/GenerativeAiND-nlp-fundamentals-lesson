{
 "cells": [
  {
   "cell_type": "code",
   "execution_count": 1,
   "metadata": {},
   "outputs": [],
   "source": [
    "from __future__ import annotations\n",
    "from typing import Callable\n",
    "\n",
    "import torch\n",
    "import torch.nn as nn\n",
    "import torch.optim as optim\n",
    "from torch.utils.data import DataLoader\n",
    "from transformers import AutoTokenizer\n",
    "\n",
    "from helper import *"
   ]
  },
  {
   "cell_type": "code",
   "execution_count": 2,
   "metadata": {},
   "outputs": [
    {
     "name": "stdout",
     "output_type": "stream",
     "text": [
      "cpu\n"
     ]
    }
   ],
   "source": [
    "device = torch.device('cuda:0' if torch.cuda.is_available() else 'cpu')\n",
    "print(device)"
   ]
  },
  {
   "cell_type": "markdown",
   "metadata": {},
   "source": [
    "# Intro"
   ]
  },
  {
   "cell_type": "markdown",
   "metadata": {},
   "source": [
    "# Load Data"
   ]
  },
  {
   "cell_type": "code",
   "execution_count": 3,
   "metadata": {},
   "outputs": [],
   "source": [
    "# Reduced data to make it manageable for smaller systems\n",
    "DATA_FILE: str = '../data/shakespeare_small.txt'"
   ]
  },
  {
   "cell_type": "code",
   "execution_count": 4,
   "metadata": {},
   "outputs": [],
   "source": [
    "with open(DATA_FILE, 'r') as data_file:\n",
    "    raw_text = data_file.read()"
   ]
  },
  {
   "cell_type": "code",
   "execution_count": 5,
   "metadata": {},
   "outputs": [
    {
     "name": "stdout",
     "output_type": "stream",
     "text": [
      "Number of characters: 50,085\n"
     ]
    }
   ],
   "source": [
    "print(f'Number of characters: {len(raw_text):,}')"
   ]
  },
  {
   "cell_type": "markdown",
   "metadata": {},
   "source": [
    "# Character-Based Generation"
   ]
  },
  {
   "cell_type": "markdown",
   "metadata": {},
   "source": [
    "## Encode Text into Integer Tokens"
   ]
  },
  {
   "cell_type": "markdown",
   "metadata": {},
   "source": [
    "### Normalization\n",
    "\n",
    "> - Skip?\n",
    "> - lowercase?"
   ]
  },
  {
   "cell_type": "code",
   "execution_count": 6,
   "metadata": {},
   "outputs": [],
   "source": [
    "def normalize_text(text: str) -> str:\n",
    "    # Can be multiple actions to normalize text\n",
    "    normalized_text = text.lower()\n",
    "    return normalized_text"
   ]
  },
  {
   "cell_type": "code",
   "execution_count": 7,
   "metadata": {},
   "outputs": [],
   "source": [
    "# TEST: Is your text normalized the way you expected?\n",
    "# normalized_text = normalize_text(raw_text)\n",
    "# print(normalized_text)"
   ]
  },
  {
   "cell_type": "markdown",
   "metadata": {},
   "source": [
    "### Pretokenization"
   ]
  },
  {
   "cell_type": "code",
   "execution_count": 8,
   "metadata": {},
   "outputs": [],
   "source": [
    "def pretokenize_text(text: str) -> list[str]:\n",
    "    smaller_pieces = [char for char in text]\n",
    "    return smaller_pieces"
   ]
  },
  {
   "cell_type": "code",
   "execution_count": 9,
   "metadata": {},
   "outputs": [],
   "source": [
    "# TEST: Is your (normalized) text pretokenized the way you expected?\n",
    "# pretokenized_text = pretokenize_text(normalized_text)\n",
    "# print(pretokenized_text)"
   ]
  },
  {
   "cell_type": "markdown",
   "metadata": {},
   "source": [
    "### Tokenize"
   ]
  },
  {
   "cell_type": "code",
   "execution_count": 10,
   "metadata": {},
   "outputs": [],
   "source": [
    "# Combine normalization and pretokenization steps\n",
    "def tokenize_text(text: str) -> list[str]:\n",
    "    normalized_text: str = normalize_text(raw_text)\n",
    "    pretokenized_text: list[str] = pretokenize_text(normalized_text)\n",
    "    # Characters are already tokens so pretokenized text is already tokenized\n",
    "    tokenized_text = pretokenized_text\n",
    "    return tokenized_text"
   ]
  },
  {
   "cell_type": "code",
   "execution_count": null,
   "metadata": {},
   "outputs": [],
   "source": []
  },
  {
   "cell_type": "code",
   "execution_count": 11,
   "metadata": {},
   "outputs": [],
   "source": [
    "tokenized_text = tokenize_text(raw_text)"
   ]
  },
  {
   "cell_type": "markdown",
   "metadata": {},
   "source": [
    "### Postprocessing\n",
    "\n",
    "> Skip"
   ]
  },
  {
   "cell_type": "markdown",
   "metadata": {},
   "source": [
    "### Encode (Tokens → Integer IDs)"
   ]
  },
  {
   "cell_type": "code",
   "execution_count": 12,
   "metadata": {},
   "outputs": [],
   "source": [
    "# to get enocding (IDs) of text\n",
    "def encode_text(\n",
    "    text: str,\n",
    "    tokenize_func: Callable[[str], list[str]],\n",
    ") -> tuple[list[int], TokenMapping]:\n",
    "    tokenized_text: list[str] = tokenize_func(text)\n",
    "    # Get object for translating tokens to IDs and back\n",
    "    token_mapping = TokenMapping(tokenized_text)\n",
    "    # Get your text encoded as list of IDs\n",
    "    enocded_text: list[str] = token_mapping.encode(tokenized_text)\n",
    "    return enocded_text, token_mapping"
   ]
  },
  {
   "cell_type": "code",
   "execution_count": 13,
   "metadata": {},
   "outputs": [],
   "source": [
    "encoded, character_mapping = encode_text(raw_text, tokenize_text)"
   ]
  },
  {
   "cell_type": "markdown",
   "metadata": {},
   "source": [
    "## Prepare Dataset"
   ]
  },
  {
   "cell_type": "code",
   "execution_count": 14,
   "metadata": {},
   "outputs": [],
   "source": [
    "n_tokens = character_mapping.n_tokens\n",
    "dataset_size = len(encoded)"
   ]
  },
  {
   "cell_type": "code",
   "execution_count": 15,
   "metadata": {},
   "outputs": [],
   "source": [
    "length = 32 # Number of characters\n",
    "batch_size = 32\n",
    "\n",
    "train_dataset = ShakespeareDataset(encoded, length)\n",
    "train_loader = DataLoader(\n",
    "    train_dataset,\n",
    "    shuffle=True,\n",
    "    batch_size=batch_size,\n",
    ")"
   ]
  },
  {
   "cell_type": "markdown",
   "metadata": {},
   "source": [
    "## Define Model"
   ]
  },
  {
   "cell_type": "code",
   "execution_count": 16,
   "metadata": {},
   "outputs": [],
   "source": [
    "model = build_model(n_tokens)\n",
    "model.to(device)\n",
    "criterion = nn.CrossEntropyLoss()\n",
    "optimizer = optim.Adam(model.parameters())"
   ]
  },
  {
   "cell_type": "markdown",
   "metadata": {},
   "source": [
    "## Define Text Genaration"
   ]
  },
  {
   "cell_type": "code",
   "execution_count": 17,
   "metadata": {},
   "outputs": [],
   "source": [
    "def generate_text(\n",
    "    model,\n",
    "    input_str: str,\n",
    "    num_chars: int = 100,\n",
    "    temperature: float = 1.0,\n",
    ") -> str:\n",
    "    # Set model into \"evaluation mode\" (deactivates things like Dropout layers)\n",
    "    model.eval()\n",
    "    generated_text = input_str.lower()\n",
    "    input_tensor = tokens_to_id_tensor(\n",
    "        tokens=input_str.lower(),\n",
    "        token_id_mapping=character_mapping.token2id,\n",
    "    )\n",
    "    \n",
    "    with torch.no_grad():\n",
    "        for _ in range(num_chars):\n",
    "            output = model(input_tensor.to(device))\n",
    "            probabilities = nn.functional.softmax(\n",
    "                output[0, -1] / temperature,\n",
    "                dim=0,\n",
    "            )\n",
    "            next_char_idx = torch.multinomial(probabilities, 1).item()\n",
    "            generated_text += character_mapping.id2token(next_char_idx)\n",
    "            input_tensor = torch.cat(\n",
    "                [\n",
    "                    input_tensor,\n",
    "                    torch.tensor([[next_char_idx]], dtype=torch.long),\n",
    "                ],\n",
    "                1,\n",
    "            )\n",
    "            \n",
    "    return generated_text"
   ]
  },
  {
   "cell_type": "markdown",
   "metadata": {},
   "source": [
    "## Train Model"
   ]
  },
  {
   "cell_type": "code",
   "execution_count": 18,
   "metadata": {},
   "outputs": [
    {
     "name": "stdout",
     "output_type": "stream",
     "text": [
      "Epoch 1/5, Loss: 2.272809115461648\n",
      "[00m 6.3s (0 0%) 2.1010]\n",
      "------------------------------------------------------------------------\n",
      "to be or not to be kanfiteinon we and irs olek i cood! wreiceld simy! homond boti! haruifling sy ap'l,\n",
      "yhou prard digh\n",
      "Epoch 2/5, Loss: 1.904132768902154\n",
      "[00m 12.6s (1 20%) 1.8678]\n",
      "------------------------------------------------------------------------\n",
      "to be or not to be mairadius, the chand tohtia that ag'd the cone,\n",
      "secials marcius, and sout arst hary, it arthion and\n",
      "Epoch 3/5, Loss: 1.818787350136632\n",
      "[00m 19.0s (2 40%) 1.7272]\n",
      "------------------------------------------------------------------------\n",
      "to be or not to be the,\n",
      "the comand to reso done's for one o' hy you well known with itch, poo, i vereed.\n",
      "\n",
      "coot the sho\n",
      "Epoch 4/5, Loss: 1.7758593479284464\n",
      "[00m 25.4s (3 60%) 1.5742]\n",
      "------------------------------------------------------------------------\n",
      "to be or not to be fram! you\n",
      "he prear gack ange?\n",
      "\n",
      "mane yes feer?\n",
      "'\n",
      "all would shum, agrainefides thing one thanath marc\n",
      "Epoch 5/5, Loss: 1.7490602515376032\n",
      "[00m 31.8s (4 80%) 1.5552]\n",
      "------------------------------------------------------------------------\n",
      "to be or not to befcith\n",
      "firgher stech rome for mus! we lat hame theist him.\n",
      "\n",
      "may!\n",
      "\n",
      "aland efarfersiant's ad! and, weme?\n"
     ]
    }
   ],
   "source": [
    "PHRASE = 'To be or not to be'\n",
    "epochs = 5\n",
    "\n",
    "start = start_time()\n",
    "for epoch in range(epochs):\n",
    "    # Set model into \"training mode\"\n",
    "    model.train()\n",
    "    total_loss = 0\n",
    "    for X_batch, y_batch in train_loader:\n",
    "        optimizer.zero_grad()\n",
    "        output = model(X_batch.to(device))\n",
    "        loss = criterion(output.transpose(1, 2), y_batch.to(device))\n",
    "        loss.backward()\n",
    "        optimizer.step()\n",
    "        total_loss += loss.item()\n",
    "    \n",
    "    print(f'Epoch {epoch + 1}/{epochs}, Loss: {total_loss / len(train_loader)}')\n",
    "    print('[%s (%d %d%%) %.4f]' % (time_since(start), epoch, epoch / epochs * 100, loss))\n",
    "    print('-'*72)\n",
    "    gen_output = generate_text(model, PHRASE, 100)\n",
    "    print(gen_output)"
   ]
  },
  {
   "cell_type": "markdown",
   "metadata": {},
   "source": [
    "## Generate Text"
   ]
  },
  {
   "cell_type": "code",
   "execution_count": 19,
   "metadata": {},
   "outputs": [
    {
     "name": "stdout",
     "output_type": "stream",
     "text": [
      "to be or not to bear hem? se'd beat what a:\n",
      "at the vood.\n",
      "\n",
      "brun:\n",
      "i for ary the birs, would to knowe; has you have fith \n"
     ]
    }
   ],
   "source": [
    "output = generate_text(model, 'To be or not to be', 100)\n",
    "print(output)"
   ]
  },
  {
   "cell_type": "markdown",
   "metadata": {},
   "source": [
    "# Token-Based Generation"
   ]
  },
  {
   "cell_type": "markdown",
   "metadata": {},
   "source": [
    "## Encode Text into Integer Tokens"
   ]
  },
  {
   "cell_type": "markdown",
   "metadata": {},
   "source": [
    "### Tokenize (Choose)"
   ]
  },
  {
   "cell_type": "code",
   "execution_count": 20,
   "metadata": {},
   "outputs": [],
   "source": [
    "# Choose a pretrained tokenizer to use\n",
    "xlmr_model_name = 'xlm-roberta-base'\n",
    "bert_model_name = 'bert-base-cased'\n",
    "bert_model_name_uncased = 'bert-base-uncased'\n",
    "\n",
    "my_tokenizer = AutoTokenizer.from_pretrained(\n",
    "    bert_model_name_uncased,\n",
    ")"
   ]
  },
  {
   "cell_type": "markdown",
   "metadata": {},
   "source": [
    "### Encode (Tokens → Integer IDs)"
   ]
  },
  {
   "cell_type": "code",
   "execution_count": 21,
   "metadata": {},
   "outputs": [],
   "source": [
    "# Get enocding (IDs) of text\n",
    "def encode_text_from_tokenizer(\n",
    "    text: str,\n",
    "    tokenizer,\n",
    ") -> tuple[list[int], TokenMapping]:\n",
    "    # Using tokenizer, get text as list of tokens (strings)\n",
    "    tokenized_text: list[str] = tokenize_text_from_tokenizer(\n",
    "        tokenizer=tokenizer,\n",
    "        text=text,\n",
    "    )\n",
    "    # Get object for translating tokens to IDs and back\n",
    "    token_mapping = TokenMapping(tokenized_text)\n",
    "    # Get your text encoded as list of IDs\n",
    "    enocded_text: list[str] = token_mapping.encode(tokenized_text)\n",
    "    return enocded_text, token_mapping"
   ]
  },
  {
   "cell_type": "code",
   "execution_count": 22,
   "metadata": {},
   "outputs": [],
   "source": [
    "encoded, token_mapping = encode_text_from_tokenizer(\n",
    "    text=raw_text,\n",
    "    tokenizer=my_tokenizer,\n",
    ")"
   ]
  },
  {
   "cell_type": "markdown",
   "metadata": {},
   "source": [
    "## Prepare Dataset"
   ]
  },
  {
   "cell_type": "code",
   "execution_count": 23,
   "metadata": {},
   "outputs": [],
   "source": [
    "n_tokens = token_mapping.n_tokens\n",
    "dataset_size = len(encoded)"
   ]
  },
  {
   "cell_type": "code",
   "execution_count": 24,
   "metadata": {},
   "outputs": [],
   "source": [
    "length = 16  # Tokens \n",
    "batch_size = 32\n",
    "\n",
    "train_dataset = ShakespeareDataset(encoded, length)\n",
    "train_loader = DataLoader(\n",
    "    train_dataset,\n",
    "    shuffle=True,\n",
    "    batch_size=batch_size,\n",
    ")"
   ]
  },
  {
   "cell_type": "markdown",
   "metadata": {},
   "source": [
    "## Define Model"
   ]
  },
  {
   "cell_type": "code",
   "execution_count": 25,
   "metadata": {},
   "outputs": [],
   "source": [
    "model = build_model(n_tokens)\n",
    "model.to(device)\n",
    "criterion = nn.CrossEntropyLoss()\n",
    "optimizer = optim.Adam(model.parameters())"
   ]
  },
  {
   "cell_type": "markdown",
   "metadata": {},
   "source": [
    "## Define Text Genaration"
   ]
  },
  {
   "cell_type": "code",
   "execution_count": 26,
   "metadata": {},
   "outputs": [],
   "source": [
    "def generate_text(\n",
    "    tokenizer,\n",
    "    model,\n",
    "    input_str: str,\n",
    "    num_tokens: int = 100,\n",
    "    temperature: float = 1.0,\n",
    ") -> str:\n",
    "    # Set model into \"evaluation mode\" (deactivates things like Dropout layers)\n",
    "    model.eval()\n",
    "    tokenized_text = tokenize_text_from_tokenizer(\n",
    "        tokenizer=tokenizer,\n",
    "        text=input_str,\n",
    "    )\n",
    "    input_tensor = tokens_to_id_tensor(\n",
    "        tokens=tokenized_text,\n",
    "        token_id_mapping=token_mapping.token2id,\n",
    "    )\n",
    "\n",
    "    generated_text = []\n",
    "    with torch.no_grad():\n",
    "        for _ in range(num_tokens):\n",
    "            output = model(input_tensor.to(device))\n",
    "            probabilities = nn.functional.softmax(\n",
    "                output[0, -1] / temperature,\n",
    "                dim=0,\n",
    "            )\n",
    "            next_token_idx = torch.multinomial(probabilities, 1).item()\n",
    "            generated_text.append(token_mapping.id2token(next_token_idx))\n",
    "            input_tensor = torch.cat(\n",
    "                [\n",
    "                    input_tensor,\n",
    "                    torch.tensor([[next_token_idx]], dtype=torch.long),\n",
    "                ],\n",
    "                1,\n",
    "            )\n",
    "    # Convert to text again\n",
    "    output_ids = tokenizer.convert_tokens_to_ids(generated_text)\n",
    "    output_str = input_str + ' ' + tokenizer.decode(output_ids)\n",
    "    return output_str"
   ]
  },
  {
   "cell_type": "markdown",
   "metadata": {},
   "source": [
    "## Train Model"
   ]
  },
  {
   "cell_type": "code",
   "execution_count": 27,
   "metadata": {},
   "outputs": [
    {
     "name": "stdout",
     "output_type": "stream",
     "text": [
      "Epoch 1/5, Loss: 6.206475119811195\n",
      "[00m 2.7s (0 0%) 5.8849]\n",
      "------------------------------------------------------------------------\n",
      "To be or not to be , here believe bad quarry auf! my country nor base for,! strike would'had?, cometinothini rushes thena myxtli\n",
      "Epoch 2/5, Loss: 5.448414956856238\n",
      "[00m 5.5s (1 20%) 5.4670]\n",
      "------------------------------------------------------------------------\n",
      "To be or not to be tis below with make can wine ladiesria, to say will, come, upon wine's nape? no i, you : not again convenient ;\n",
      "Epoch 3/5, Loss: 4.9026114018294065\n",
      "[00m 8.3s (2 40%) 5.1810]\n",
      "------------------------------------------------------------------------\n",
      "To be or not to be count.a and, advanced, and two upon i think wars fabric to co love in backs peace : the more, itcal thousandly almost free\n",
      "Epoch 4/5, Loss: 4.49007889824192\n",
      "[00m 11.1s (3 60%) 4.8475]\n",
      "------------------------------------------------------------------------\n",
      "To be or not to be go are bo in these easy dispatch sure can their battle in the outward, thus and't knowledge who bands all i must menenius, if\n",
      "Epoch 5/5, Loss: 4.160077105473428\n",
      "[00m 13.9s (4 80%) 4.0835]\n",
      "------------------------------------------------------------------------\n",
      "To be or not to be vent well, his friends, she, she, i alone, are sounds : l him but but weep, no - boilp ite friends\n"
     ]
    }
   ],
   "source": [
    "epochs = 5\n",
    "\n",
    "start = start_time()\n",
    "for epoch in range(epochs):\n",
    "    # Set model into \"training mode\"\n",
    "    model.train()\n",
    "    total_loss = 0\n",
    "    for X_batch, y_batch in train_loader:\n",
    "        optimizer.zero_grad()\n",
    "        output = model(X_batch.to(device))\n",
    "        loss = criterion(output.transpose(1, 2), y_batch.to(device))\n",
    "        loss.backward()\n",
    "        optimizer.step()\n",
    "        total_loss += loss.item()\n",
    "    \n",
    "    print(f'Epoch {epoch + 1}/{epochs}, Loss: {total_loss / len(train_loader)}')\n",
    "    print('[%s (%d %d%%) %.4f]' % (time_since(start), epoch, epoch / epochs * 100, loss))\n",
    "    print('-'*72)\n",
    "    output = generate_text(my_tokenizer, model, 'To be or not to be', 30)\n",
    "    print(output)\n"
   ]
  },
  {
   "cell_type": "markdown",
   "metadata": {},
   "source": [
    "## Generate Text"
   ]
  },
  {
   "cell_type": "code",
   "execution_count": 28,
   "metadata": {},
   "outputs": [
    {
     "name": "stdout",
     "output_type": "stream",
     "text": [
      "To be or not to be ##see you him slip aim! mygeny, to all whereinst why'er good general think. second citizen : soft thou a nature, we me\n"
     ]
    }
   ],
   "source": [
    "output = generate_text(my_tokenizer, model, 'To be or not to be', 30)\n",
    "print(output)"
   ]
  },
  {
   "cell_type": "markdown",
   "metadata": {},
   "source": [
    "# Comparison Between Generation"
   ]
  }
 ],
 "metadata": {
  "kernelspec": {
   "display_name": "udacity-nlp-fundamentals",
   "language": "python",
   "name": "python3"
  },
  "language_info": {
   "codemirror_mode": {
    "name": "ipython",
    "version": 3
   },
   "file_extension": ".py",
   "mimetype": "text/x-python",
   "name": "python",
   "nbconvert_exporter": "python",
   "pygments_lexer": "ipython3",
   "version": "3.10.12"
  }
 },
 "nbformat": 4,
 "nbformat_minor": 2
}
