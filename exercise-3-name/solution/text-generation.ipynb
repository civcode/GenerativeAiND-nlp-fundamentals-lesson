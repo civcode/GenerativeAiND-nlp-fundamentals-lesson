{
 "cells": [
  {
   "cell_type": "code",
   "execution_count": 1,
   "metadata": {},
   "outputs": [],
   "source": [
    "from __future__ import annotations\n",
    "from collections.abc import Sequence\n",
    "\n",
    "import torch\n",
    "import torch.nn as nn\n",
    "import torch.optim as optim\n",
    "from collections import Counter\n",
    "from torch.utils.data import DataLoader"
   ]
  },
  {
   "cell_type": "code",
   "execution_count": 2,
   "metadata": {},
   "outputs": [],
   "source": [
    "from helper import (\n",
    "    ShakespeareDataset,\n",
    "    start_time,\n",
    "    time_since,\n",
    ")"
   ]
  },
  {
   "cell_type": "code",
   "execution_count": 3,
   "metadata": {},
   "outputs": [
    {
     "name": "stdout",
     "output_type": "stream",
     "text": [
      "cpu\n"
     ]
    }
   ],
   "source": [
    "device = torch.device('cuda:0' if torch.cuda.is_available() else 'cpu')\n",
    "print(device)"
   ]
  },
  {
   "cell_type": "markdown",
   "metadata": {},
   "source": [
    "# Intro"
   ]
  },
  {
   "cell_type": "markdown",
   "metadata": {},
   "source": [
    "# Load Data"
   ]
  },
  {
   "cell_type": "code",
   "execution_count": 4,
   "metadata": {},
   "outputs": [],
   "source": [
    "# Reduced data to make it manageable for smaller systems\n",
    "DATA_FILE: str = '../data/shakespeare_small.txt'"
   ]
  },
  {
   "cell_type": "code",
   "execution_count": 5,
   "metadata": {},
   "outputs": [],
   "source": [
    "with open(DATA_FILE, 'r') as data_file:\n",
    "    raw_text = data_file.read()"
   ]
  },
  {
   "cell_type": "code",
   "execution_count": 6,
   "metadata": {},
   "outputs": [
    {
     "name": "stdout",
     "output_type": "stream",
     "text": [
      "Number of characters: 50,085\n"
     ]
    }
   ],
   "source": [
    "print(f'Number of characters: {len(raw_text):,}')"
   ]
  },
  {
   "cell_type": "markdown",
   "metadata": {},
   "source": [
    "# Character-Based Generation"
   ]
  },
  {
   "cell_type": "markdown",
   "metadata": {},
   "source": [
    "## Encode Text into Integer Tokens"
   ]
  },
  {
   "cell_type": "markdown",
   "metadata": {},
   "source": [
    "### Normalization\n",
    "\n",
    "> - Skip?\n",
    "> - lowercase?"
   ]
  },
  {
   "cell_type": "code",
   "execution_count": 7,
   "metadata": {},
   "outputs": [],
   "source": [
    "shakespeare_text = raw_text.lower()"
   ]
  },
  {
   "cell_type": "markdown",
   "metadata": {},
   "source": [
    "### Pretokenization"
   ]
  },
  {
   "cell_type": "code",
   "execution_count": 8,
   "metadata": {},
   "outputs": [],
   "source": [
    "char2idx = {\n",
    "    char: idx\n",
    "    for idx, (char, _) in enumerate(Counter(shakespeare_text).items())\n",
    "}\n",
    "\n",
    "idx2char = {\n",
    "    idx: char\n",
    "    for char, idx in char2idx.items()\n",
    "}"
   ]
  },
  {
   "cell_type": "markdown",
   "metadata": {},
   "source": [
    "### Tokenize"
   ]
  },
  {
   "cell_type": "code",
   "execution_count": 9,
   "metadata": {},
   "outputs": [],
   "source": [
    "encoded = [\n",
    "    char2idx[char] for char in shakespeare_text\n",
    "]"
   ]
  },
  {
   "cell_type": "markdown",
   "metadata": {},
   "source": [
    "### Postprocessing\n",
    "\n",
    "> Skip"
   ]
  },
  {
   "cell_type": "markdown",
   "metadata": {},
   "source": [
    "## Prepare Dataset"
   ]
  },
  {
   "cell_type": "code",
   "execution_count": 10,
   "metadata": {},
   "outputs": [],
   "source": [
    "n_tokens = len(char2idx)\n",
    "dataset_size = len(encoded)"
   ]
  },
  {
   "cell_type": "code",
   "execution_count": 11,
   "metadata": {},
   "outputs": [],
   "source": [
    "length = 32 # Number of characters\n",
    "batch_size = 32\n",
    "\n",
    "train_dataset = ShakespeareDataset(encoded, length)\n",
    "train_loader = DataLoader(\n",
    "    train_dataset,\n",
    "    shuffle=True,\n",
    "    batch_size=batch_size,\n",
    ")"
   ]
  },
  {
   "cell_type": "markdown",
   "metadata": {},
   "source": [
    "## Define Model"
   ]
  },
  {
   "cell_type": "code",
   "execution_count": 12,
   "metadata": {},
   "outputs": [],
   "source": [
    "class ShakespeareModel(nn.Module):\n",
    "    def __init__(self, n_tokens: int, embedding_dim: int, hidden_dim: int):\n",
    "        super(ShakespeareModel, self).__init__()\n",
    "        self.embedding = nn.Embedding(n_tokens, embedding_dim)\n",
    "        self.rnn = nn.GRU(embedding_dim, hidden_dim, batch_first=True)\n",
    "        self.fc = nn.Linear(hidden_dim, n_tokens)\n",
    "        \n",
    "    def forward(self, x):\n",
    "        x = self.embedding(x)\n",
    "        x, _ = self.rnn(x)\n",
    "        x = self.fc(x)\n",
    "        return x"
   ]
  },
  {
   "cell_type": "code",
   "execution_count": 13,
   "metadata": {},
   "outputs": [],
   "source": [
    "embed_dim = 16\n",
    "hidden_dim = 32\n",
    "\n",
    "model = ShakespeareModel(n_tokens, embed_dim, hidden_dim)\n",
    "model.to(device)\n",
    "criterion = nn.CrossEntropyLoss()\n",
    "optimizer = optim.Adam(model.parameters())"
   ]
  },
  {
   "cell_type": "markdown",
   "metadata": {},
   "source": [
    "## Define Text Genaration"
   ]
  },
  {
   "cell_type": "code",
   "execution_count": 14,
   "metadata": {},
   "outputs": [],
   "source": [
    "def generate_text(\n",
    "    model,\n",
    "    input_str: str,\n",
    "    num_chars: int = 100,\n",
    "    temperature: float = 1.0,\n",
    ") -> str:\n",
    "    model.eval()\n",
    "    generated_text = input_str.lower()\n",
    "    input_tensor = (\n",
    "        torch.tensor(\n",
    "            [char2idx[char] for char in input_str.lower()],\n",
    "            dtype=torch.long,\n",
    "        )\n",
    "        .unsqueeze(0)\n",
    "    )\n",
    "    \n",
    "    with torch.no_grad():\n",
    "        for _ in range(num_chars):\n",
    "            output = model(input_tensor.to(device))\n",
    "            probabilities = nn.functional.softmax(\n",
    "                output[0, -1] / temperature,\n",
    "                dim=0,\n",
    "            )\n",
    "            next_char_idx = torch.multinomial(probabilities, 1).item()\n",
    "            generated_text += idx2char[next_char_idx]\n",
    "            input_tensor = torch.cat(\n",
    "                [\n",
    "                    input_tensor,\n",
    "                    torch.tensor([[next_char_idx]], dtype=torch.long),\n",
    "                ],\n",
    "                1,\n",
    "            )\n",
    "            \n",
    "    return generated_text"
   ]
  },
  {
   "cell_type": "markdown",
   "metadata": {},
   "source": [
    "## Train Model"
   ]
  },
  {
   "cell_type": "code",
   "execution_count": 15,
   "metadata": {},
   "outputs": [
    {
     "name": "stdout",
     "output_type": "stream",
     "text": [
      "Epoch 1/5, Loss: 2.2826013823286795\n",
      "[00m 6.3s (0 0%) 1.9859]\n",
      "------------------------------------------------------------------------\n",
      "to be or not to be:\n",
      "and then lthaseren, thice.\n",
      ".\n",
      "\n",
      "fitga beand put.\n",
      "\n",
      "valinizibive he tor worts call word\n",
      "homay romate e\n",
      "Epoch 2/5, Loss: 1.908258936961238\n",
      "[00m 12.6s (1 20%) 1.8876]\n",
      "------------------------------------------------------------------------\n",
      "to be or not to bears of his gon him compinot mius.\n",
      "\n",
      "shim\n",
      "in wento whis sean afalen wout?\n",
      "\n",
      "brutod,\n",
      "my to hergs rnevera\n",
      "Epoch 3/5, Loss: 1.8248796020452969\n",
      "[00m 19.0s (2 40%) 1.9155]\n",
      "------------------------------------------------------------------------\n",
      "to be or not to be all the?\n",
      "\n",
      "aufirst not pecm; must bear gots!\n",
      "\n",
      "cimcinius:\n",
      "sonke nor isue you,\n",
      "we our valin wiels,\n",
      "tha\n",
      "Epoch 4/5, Loss: 1.7833617346736188\n",
      "[00m 25.4s (3 60%) 2.0215]\n",
      "------------------------------------------------------------------------\n",
      "to be or not to bell.:\n",
      "nod prove i a\n",
      "me not yould vim.\n",
      "\n",
      "martius:\n",
      "tell i,\n",
      "the culp! tho store, indere sicinius:\n",
      "weed i \n",
      "Epoch 5/5, Loss: 1.7566966510047548\n",
      "[00m 31.7s (4 80%) 1.6860]\n",
      "------------------------------------------------------------------------\n",
      "to be or not to besong but--your veroud; ank ded, to may. gran are flite then is licinianl, and fut. ingen should with\n"
     ]
    }
   ],
   "source": [
    "PHRASE = 'To be or not to be'\n",
    "epochs = 5\n",
    "\n",
    "start = start_time()\n",
    "for epoch in range(epochs):\n",
    "    model.train()\n",
    "    total_loss = 0\n",
    "    for X_batch, y_batch in train_loader:\n",
    "        optimizer.zero_grad()\n",
    "        output = model(X_batch.to(device))\n",
    "        loss = criterion(output.transpose(1, 2), y_batch.to(device))\n",
    "        loss.backward()\n",
    "        optimizer.step()\n",
    "        total_loss += loss.item()\n",
    "    \n",
    "    print(f'Epoch {epoch + 1}/{epochs}, Loss: {total_loss / len(train_loader)}')\n",
    "    print('[%s (%d %d%%) %.4f]' % (time_since(start), epoch, epoch / epochs * 100, loss))\n",
    "    print('-'*72)\n",
    "    gen_output = generate_text(model, PHRASE, 100)\n",
    "    print(gen_output)"
   ]
  },
  {
   "cell_type": "markdown",
   "metadata": {},
   "source": [
    "## Generate Text"
   ]
  },
  {
   "cell_type": "code",
   "execution_count": 16,
   "metadata": {},
   "outputs": [
    {
     "name": "stdout",
     "output_type": "stream",
     "text": [
      "to be or not to bebers theg shall they fiblat had you areshere in that,\n",
      "een peot cither fender:\n",
      "then one the pratues! \n"
     ]
    }
   ],
   "source": [
    "output = generate_text(model, 'To be or not to be', 100)\n",
    "print(output)"
   ]
  },
  {
   "cell_type": "markdown",
   "metadata": {},
   "source": [
    "# Token-Based Generation"
   ]
  },
  {
   "cell_type": "code",
   "execution_count": 17,
   "metadata": {},
   "outputs": [],
   "source": [
    "from torch.utils.data import Dataset, DataLoader\n",
    "from transformers import AutoTokenizer, AutoConfig"
   ]
  },
  {
   "cell_type": "markdown",
   "metadata": {},
   "source": [
    "## Encode Text into Integer Tokens"
   ]
  },
  {
   "cell_type": "markdown",
   "metadata": {},
   "source": [
    "### Tokenize (Choose)\n",
    "- Normalization\n",
    "- Pretokenization\n",
    "- Tokenize\n",
    "- Postprocessing"
   ]
  },
  {
   "cell_type": "code",
   "execution_count": 18,
   "metadata": {},
   "outputs": [],
   "source": [
    "# Choose a pretrained tokenizer to use\n",
    "xlmr_model_name = 'xlm-roberta-base'\n",
    "bert_model_name = 'bert-base-cased'\n",
    "bert_model_name_uncased = 'bert-base-uncased'\n",
    "\n",
    "bert_uncased_tokenizer = AutoTokenizer.from_pretrained(\n",
    "    bert_model_name_uncased,\n",
    ")"
   ]
  },
  {
   "cell_type": "code",
   "execution_count": 19,
   "metadata": {},
   "outputs": [],
   "source": [
    "def tokenize_text(\n",
    "    tokenizer,\n",
    "    text: str,\n",
    ") -> list[str]:\n",
    "    max_seq_length = tokenizer.model_max_length\n",
    "    # Chunk the string so tokenizer can take in full input\n",
    "    chunks_generator = (\n",
    "        text[i:i+max_seq_length]\n",
    "        for i in range(0, len(text), max_seq_length)\n",
    "    )\n",
    "    # Special tokens to ignore\n",
    "    ignore_tokens = (\n",
    "        tokenizer.cls_token,\n",
    "    )\n",
    "    # Get list of tokens (one chunk at a time)\n",
    "    tokenized_text = [\n",
    "        token\n",
    "        for chunk in chunks_generator\n",
    "        for token in tokenizer(chunk).tokens()\n",
    "        if (\n",
    "            token not in ignore_tokens\n",
    "        )\n",
    "    ]\n",
    "\n",
    "    return tokenized_text"
   ]
  },
  {
   "cell_type": "code",
   "execution_count": 20,
   "metadata": {},
   "outputs": [],
   "source": [
    "shakespeare_text = (\n",
    "    tokenize_text(\n",
    "        tokenizer=bert_uncased_tokenizer,\n",
    "        text=raw_text,\n",
    "    )\n",
    ")"
   ]
  },
  {
   "cell_type": "code",
   "execution_count": 21,
   "metadata": {},
   "outputs": [],
   "source": [
    "token2idx = {token: idx for idx, (token, _) in enumerate(Counter(shakespeare_text).items())}\n",
    "idx2token = {idx: token for token, idx in token2idx.items()}\n",
    "encoded = [token2idx[token] for token in shakespeare_text]\n",
    "n_tokens = len(token2idx)\n",
    "dataset_size = len(encoded)"
   ]
  },
  {
   "cell_type": "markdown",
   "metadata": {},
   "source": [
    "## Prepare Dataset"
   ]
  },
  {
   "cell_type": "code",
   "execution_count": 22,
   "metadata": {},
   "outputs": [],
   "source": [
    "n_tokens = len(token2idx)\n",
    "dataset_size = len(encoded)"
   ]
  },
  {
   "cell_type": "code",
   "execution_count": 23,
   "metadata": {},
   "outputs": [],
   "source": [
    "class ShakespeareDataset(Dataset):\n",
    "    def __init__(self, encoded_text: Sequence, sequence_length: int):\n",
    "        self.encoded_text = encoded_text\n",
    "        self.sequence_length = sequence_length\n",
    "\n",
    "    def __len__(self):\n",
    "        return len(self.encoded_text) - self.sequence_length\n",
    "\n",
    "    def __getitem__(self, index):\n",
    "        x = torch.tensor(\n",
    "            self.encoded_text[index: (index+self.sequence_length)],\n",
    "            dtype=torch.long,\n",
    "        )\n",
    "        # Target is shifted by one token\n",
    "        y = torch.tensor(\n",
    "            self.encoded_text[(index+1): (index+self.sequence_length+1)],\n",
    "            dtype=torch.long,\n",
    "        )\n",
    "        return x, y"
   ]
  },
  {
   "cell_type": "code",
   "execution_count": 24,
   "metadata": {},
   "outputs": [],
   "source": [
    "length = 16  # Tokens \n",
    "batch_size = 32\n",
    "\n",
    "train_dataset = ShakespeareDataset(encoded, length)\n",
    "train_loader = DataLoader(\n",
    "    train_dataset,\n",
    "    shuffle=True,\n",
    "    batch_size=batch_size,\n",
    ")"
   ]
  },
  {
   "cell_type": "markdown",
   "metadata": {},
   "source": [
    "## Define Model"
   ]
  },
  {
   "cell_type": "code",
   "execution_count": 25,
   "metadata": {},
   "outputs": [],
   "source": [
    "class ShakespeareModel(nn.Module):\n",
    "    def __init__(self, n_tokens: int, embedding_dim: int, hidden_dim: int):\n",
    "        super(ShakespeareModel, self).__init__()\n",
    "        self.embedding = nn.Embedding(n_tokens, embedding_dim)\n",
    "        self.rnn = nn.GRU(embedding_dim, hidden_dim, batch_first=True)\n",
    "        self.fc = nn.Linear(hidden_dim, n_tokens)\n",
    "        \n",
    "    def forward(self, x):\n",
    "        x = self.embedding(x)\n",
    "        x, _ = self.rnn(x)\n",
    "        x = self.fc(x)\n",
    "        return x"
   ]
  },
  {
   "cell_type": "code",
   "execution_count": 26,
   "metadata": {},
   "outputs": [],
   "source": [
    "embed_dim = 16\n",
    "hidden_dim = 32\n",
    "\n",
    "model = ShakespeareModel(n_tokens, embed_dim, hidden_dim)\n",
    "model.to(device)\n",
    "criterion = nn.CrossEntropyLoss()\n",
    "optimizer = optim.Adam(model.parameters())"
   ]
  },
  {
   "cell_type": "markdown",
   "metadata": {},
   "source": [
    "## Define Text Genaration"
   ]
  },
  {
   "cell_type": "code",
   "execution_count": 27,
   "metadata": {},
   "outputs": [],
   "source": [
    "def generate_text(\n",
    "    tokenizer,\n",
    "    model,\n",
    "    input_str: str,\n",
    "    num_tokens: int = 100,\n",
    "    temperature: float = 1.0,\n",
    ") -> str:\n",
    "    model.eval()\n",
    "    tokenized_text = tokenize_text(tokenizer=tokenizer, text=input_str)\n",
    "    input_tensor = (\n",
    "        torch.tensor(\n",
    "            [token2idx[token] for token in tokenized_text],\n",
    "            dtype=torch.long,\n",
    "        )\n",
    "        .unsqueeze(0)\n",
    "    )\n",
    "    generated_text = []\n",
    "    with torch.no_grad():\n",
    "        for _ in range(num_tokens):\n",
    "            output = model(input_tensor.to(device))\n",
    "            probabilities = nn.functional.softmax(\n",
    "                output[0, -1] / temperature,\n",
    "                dim=0,\n",
    "            )\n",
    "            next_token_idx = torch.multinomial(probabilities, 1).item()\n",
    "            generated_text.append(idx2token[next_token_idx])\n",
    "            input_tensor = torch.cat(\n",
    "                [\n",
    "                    input_tensor,\n",
    "                    torch.tensor([[next_token_idx]], dtype=torch.long),\n",
    "                ],\n",
    "                1,\n",
    "            )\n",
    "    # Convert to text again\n",
    "    output_ids = tokenizer.convert_tokens_to_ids(generated_text)\n",
    "    output_str = input_str + ' ' + tokenizer.decode(output_ids)\n",
    "    return output_str"
   ]
  },
  {
   "cell_type": "code",
   "execution_count": 28,
   "metadata": {},
   "outputs": [],
   "source": [
    "tokenized_text = tokenize_text(tokenizer=bert_uncased_tokenizer, text='To be or not to')\n",
    "input_tensor = (\n",
    "    torch.tensor(\n",
    "        [token2idx[token] for token in tokenized_text],\n",
    "        dtype=torch.long,\n",
    "    )\n",
    "    .unsqueeze(0)\n",
    "    )"
   ]
  },
  {
   "cell_type": "markdown",
   "metadata": {},
   "source": [
    "## Train Model"
   ]
  },
  {
   "cell_type": "code",
   "execution_count": 29,
   "metadata": {},
   "outputs": [
    {
     "name": "stdout",
     "output_type": "stream",
     "text": [
      "Epoch 1/5, Loss: 6.169780093114733\n",
      "[00m 2.7s (0 0%) 4.9686]\n",
      "------------------------------------------------------------------------\n",
      "To be or not to be ##us silenced co'word pray the good most,! plaguebed : meat for citizenutus greatest is : touching ir. think of, madam common to\n",
      "Epoch 2/5, Loss: 5.345452580475001\n",
      "[00m 5.4s (1 20%) 4.9929]\n",
      "------------------------------------------------------------------------\n",
      "To be or not to be stride a years : i advance super characterus, come crueldon andural malice for utmost, elders sent, that toter. when wheret shall\n",
      "Epoch 3/5, Loss: 4.8034395468983675\n",
      "[00m 8.1s (2 40%) 4.7401]\n",
      "------------------------------------------------------------------------\n",
      "To be or not to be ##ia : briefly and allrice at time have thy infant : every shall that the people jupiter, heaven had hs, that note. virgilia to\n",
      "Epoch 4/5, Loss: 4.420099650028247\n",
      "[00m 10.9s (3 60%) 4.3923]\n",
      "------------------------------------------------------------------------\n",
      "To be or not to be l a lamb. marcius : what : i shall beini with soldier, daughter folly. marcius. men, marcius : 'lor means\n",
      "Epoch 5/5, Loss: 4.1186188165692315\n",
      "[00m 13.7s (4 80%) 3.7286]\n",
      "------------------------------------------------------------------------\n",
      "To be or not to be ##ucks a mother and yely the brainus : i warrant i will ing wanting, than thingss coriolanus marcius seen him not\n"
     ]
    }
   ],
   "source": [
    "epochs = 5\n",
    "\n",
    "start = start_time()\n",
    "for epoch in range(epochs):\n",
    "    model.train()\n",
    "    total_loss = 0\n",
    "    for X_batch, y_batch in train_loader:\n",
    "        optimizer.zero_grad()\n",
    "        output = model(X_batch.to(device))\n",
    "        loss = criterion(output.transpose(1, 2), y_batch.to(device))\n",
    "        loss.backward()\n",
    "        optimizer.step()\n",
    "        total_loss += loss.item()\n",
    "    \n",
    "    print(f'Epoch {epoch + 1}/{epochs}, Loss: {total_loss / len(train_loader)}')\n",
    "    print('[%s (%d %d%%) %.4f]' % (time_since(start), epoch, epoch / epochs * 100, loss))\n",
    "    print('-'*72)\n",
    "    output = generate_text(bert_uncased_tokenizer, model, 'To be or not to be', 30)\n",
    "    print(output)\n"
   ]
  },
  {
   "cell_type": "markdown",
   "metadata": {},
   "source": [
    "## Generate Text"
   ]
  },
  {
   "cell_type": "code",
   "execution_count": 30,
   "metadata": {},
   "outputs": [
    {
     "name": "stdout",
     "output_type": "stream",
     "text": [
      "To be or not to be sworn with hisnts and their noble,, mutually know for ma good report thankful caius, we shall will in thirst. sicinius : therefore\n"
     ]
    }
   ],
   "source": [
    "output = generate_text(bert_uncased_tokenizer, model, 'To be or not to be', 30)\n",
    "print(output)"
   ]
  },
  {
   "cell_type": "markdown",
   "metadata": {},
   "source": [
    "# Comparison Between Generation"
   ]
  }
 ],
 "metadata": {
  "kernelspec": {
   "display_name": "udacity-nlp-fundamentals",
   "language": "python",
   "name": "python3"
  },
  "language_info": {
   "codemirror_mode": {
    "name": "ipython",
    "version": 3
   },
   "file_extension": ".py",
   "mimetype": "text/x-python",
   "name": "python",
   "nbconvert_exporter": "python",
   "pygments_lexer": "ipython3",
   "version": "3.10.12"
  },
  "orig_nbformat": 4
 },
 "nbformat": 4,
 "nbformat_minor": 2
}
